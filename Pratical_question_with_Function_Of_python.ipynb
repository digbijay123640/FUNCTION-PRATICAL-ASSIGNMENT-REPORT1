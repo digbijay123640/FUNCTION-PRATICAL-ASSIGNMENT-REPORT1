{
  "nbformat": 4,
  "nbformat_minor": 0,
  "metadata": {
    "colab": {
      "provenance": []
    },
    "kernelspec": {
      "name": "python3",
      "display_name": "Python 3"
    },
    "language_info": {
      "name": "python"
    }
  },
  "cells": [
    {
      "cell_type": "markdown",
      "source": [
        "Pratical Question Function\n"
      ],
      "metadata": {
        "id": "CMawGt2wzW1P"
      }
    },
    {
      "cell_type": "markdown",
      "source": [
        " 1-Write a Python program to print \"Hello, World!\n"
      ],
      "metadata": {
        "id": "IANgTLc-0IJe"
      }
    },
    {
      "cell_type": "code",
      "source": [
        "print(\"Hello World\")"
      ],
      "metadata": {
        "colab": {
          "base_uri": "https://localhost:8080/"
        },
        "id": "EKH68h4j0N3L",
        "outputId": "6711be6b-9bf0-4151-fa8b-c79136b8e57b"
      },
      "execution_count": null,
      "outputs": [
        {
          "output_type": "stream",
          "name": "stdout",
          "text": [
            "Hello World\n"
          ]
        }
      ]
    },
    {
      "cell_type": "markdown",
      "source": [
        "2-Write a Python program that displays your name and age"
      ],
      "metadata": {
        "id": "FBnfN8dl0XA9"
      }
    },
    {
      "cell_type": "code",
      "source": [
        "name = \"Digbijaya Singh\"\n",
        "age = 25\n",
        "\n",
        "#Display The information\n",
        "\n",
        "\n",
        "print(\"Name:\",name)\n",
        "print(\"Age:\",age)"
      ],
      "metadata": {
        "colab": {
          "base_uri": "https://localhost:8080/"
        },
        "id": "tEUId0Vx0h7U",
        "outputId": "686231b3-569d-46bc-bb07-fc25cf35adfb"
      },
      "execution_count": null,
      "outputs": [
        {
          "output_type": "stream",
          "name": "stdout",
          "text": [
            "Name: Digbijaya Singh\n",
            "Age: 25\n"
          ]
        }
      ]
    },
    {
      "cell_type": "markdown",
      "source": [
        "3- Write code to print all the pre-defined keywords in Python using the keyword library?"
      ],
      "metadata": {
        "id": "WI11Gupi2SZI"
      }
    },
    {
      "cell_type": "code",
      "source": [
        "# get the list of python Keywords\n",
        "import keyword\n",
        "print(keyword.kwlist)"
      ],
      "metadata": {
        "colab": {
          "base_uri": "https://localhost:8080/"
        },
        "id": "k9_Ae0pi2jXc",
        "outputId": "e45559d8-5539-4c0f-cafe-b0baf6607c8d"
      },
      "execution_count": null,
      "outputs": [
        {
          "output_type": "stream",
          "name": "stdout",
          "text": [
            "['False', 'None', 'True', 'and', 'as', 'assert', 'async', 'await', 'break', 'class', 'continue', 'def', 'del', 'elif', 'else', 'except', 'finally', 'for', 'from', 'global', 'if', 'import', 'in', 'is', 'lambda', 'nonlocal', 'not', 'or', 'pass', 'raise', 'return', 'try', 'while', 'with', 'yield']\n"
          ]
        }
      ]
    },
    {
      "cell_type": "markdown",
      "source": [
        "4- Write a program that checks if a given word is a Python keyword?"
      ],
      "metadata": {
        "id": "tz7pJaH64W9m"
      }
    },
    {
      "cell_type": "code",
      "source": [
        "word_to_check = \"for\"  # Assign a value to the variable 'word_to_check'\n",
        "result = is_python_keyword(word_to_check)  # Call the function with the word you want to check\n",
        "\n",
        "print(f\"'{word_to_check}' is a Python keyword: {result}\") # Print the result using the 'word_to_check' variable\n"
      ],
      "metadata": {
        "colab": {
          "base_uri": "https://localhost:8080/"
        },
        "id": "uo_zp3Ux4gjN",
        "outputId": "9e48eeed-a1b6-4e94-9f26-c1b352fe5705"
      },
      "execution_count": null,
      "outputs": [
        {
          "output_type": "stream",
          "name": "stdout",
          "text": [
            "'for' is a Python keyword: True\n"
          ]
        }
      ]
    },
    {
      "cell_type": "markdown",
      "source": [
        "5-Create a list and tuple in Python, and demonstrate how attempting to change an element works differently for each?"
      ],
      "metadata": {
        "id": "I20awBjS6wNx"
      }
    },
    {
      "cell_type": "code",
      "source": [
        "my_list = [4, 5, 6,7]\n",
        "print(\"Original list:\", my_list)"
      ],
      "metadata": {
        "colab": {
          "base_uri": "https://localhost:8080/"
        },
        "id": "W2KX7Anq69W-",
        "outputId": "785bc4f1-cf2f-45f6-d88e-b5c9908d3c23"
      },
      "execution_count": null,
      "outputs": [
        {
          "output_type": "stream",
          "name": "stdout",
          "text": [
            "Original list: [4, 5, 6, 7]\n"
          ]
        }
      ]
    },
    {
      "cell_type": "code",
      "source": [
        "my_tuple = (6, 7, 8,9,10)\n",
        "print(\"Original tuple:\", my_tuple)"
      ],
      "metadata": {
        "colab": {
          "base_uri": "https://localhost:8080/"
        },
        "id": "jq_6JXN_7RG-",
        "outputId": "6bbb7923-8566-4d05-b2a7-970832b2ca6a"
      },
      "execution_count": null,
      "outputs": [
        {
          "output_type": "stream",
          "name": "stdout",
          "text": [
            "Original tuple: (6, 7, 8, 9, 10)\n"
          ]
        }
      ]
    },
    {
      "cell_type": "markdown",
      "source": [
        "6-Write a function to demonstrate the behavior of mutable and immutable arguments?"
      ],
      "metadata": {
        "id": "ZOcbOxUZ7yao"
      }
    },
    {
      "cell_type": "code",
      "source": [
        "def modify_values(mutable_list, immutable_num):\n",
        "    # Modifying the list (mutable)\n",
        "    mutable_list.append(99)\n",
        "\n",
        "\n",
        "    immutable_num += 10  # This creates a new integer object, does not modify the original\n",
        "\n",
        "    print(\"Inside Function - List:\", mutable_list)\n",
        "    print(\"Inside Function - Number:\", immutable_num)\n",
        "\n",
        "\n",
        "my_list = [1, 2, 3]\n",
        "my_number = 10\n",
        "\n",
        "\n",
        "modify_values(my_list, my_number)\n",
        "\n",
        "print(\"Outside Function - List:\", my_list)   # List is modified\n",
        "print(\"Outside Function - Number:\", my_number)  # Number remains unchanged\n",
        "\n",
        "\n"
      ],
      "metadata": {
        "colab": {
          "base_uri": "https://localhost:8080/"
        },
        "id": "sNKcwoi8Ea_l",
        "outputId": "946e3cf0-f437-4dd7-a7d5-d79742829a7f"
      },
      "execution_count": null,
      "outputs": [
        {
          "output_type": "stream",
          "name": "stdout",
          "text": [
            "Inside Function - List: [1, 2, 3, 99]\n",
            "Inside Function - Number: 20\n",
            "Outside Function - List: [1, 2, 3, 99]\n",
            "Outside Function - Number: 10\n"
          ]
        }
      ]
    },
    {
      "cell_type": "markdown",
      "source": [
        "7-Write a function to demonstrate the behavior of mutable and immutable arguments?"
      ],
      "metadata": {
        "id": "y7aguSb3ABnv"
      }
    },
    {
      "cell_type": "code",
      "source": [
        "def demonstrate_mutable_immutable(mutable_list, immutable_string):\n",
        "\n",
        "    mutable_list.append(\"new item\")\n",
        "\n",
        "    immutable_string += \" modified\"  # Creates a new string, does not modify the original\n",
        "\n",
        "    print(\"Inside Function - List:\", mutable_list)\n",
        "    print(\"Inside Function - String:\", immutable_string)\n",
        "\n",
        "my_list = [\"apple\", \"banana\"]\n",
        "my_string = \"Hello\"\n",
        "\n",
        "demonstrate_mutable_immutable(my_list, my_string)\n",
        "\n",
        "print(\"Outside Function - List:\", my_list)   # List is modified\n",
        "print(\"Outside Function - String:\", my_string)  # String remains unchanged\n",
        "\n",
        "\n"
      ],
      "metadata": {
        "colab": {
          "base_uri": "https://localhost:8080/"
        },
        "id": "5jXHLfz9A8Qj",
        "outputId": "2f99206f-591f-4ffd-d3d3-0a05ee020214"
      },
      "execution_count": null,
      "outputs": [
        {
          "output_type": "stream",
          "name": "stdout",
          "text": [
            "Inside Function - List: ['apple', 'banana', 'new item']\n",
            "Inside Function - String: Hello modified\n",
            "Outside Function - List: ['apple', 'banana', 'new item']\n",
            "Outside Function - String: Hello\n"
          ]
        }
      ]
    },
    {
      "cell_type": "markdown",
      "source": [
        "8- Write a program to demonstrate the use of logical operators?"
      ],
      "metadata": {
        "id": "14TwMUWyBzzX"
      }
    },
    {
      "cell_type": "code",
      "source": [
        "a = True\n",
        "b = False\n",
        "\n",
        "# Logical AND\n",
        "print(\"a and b:\", a and b)  # False (since one is False)\n",
        "\n",
        "# Logical OR\n",
        "print(\"a or b:\", a or b)  # True (since one is True)\n",
        "\n",
        "# Logical NOT\n",
        "print(\"not a:\", not a)  # False (reverses True to False)\n",
        "print(\"not b:\", not b)  # True (reverses False to True)\n",
        "\n",
        "# Using logical operators in conditions\n",
        "x = 10\n",
        "y = 5\n",
        "\n",
        "print(\"\\nChecking Conditions:\")\n",
        "print(\"x > 5 and y < 10:\", x > 5 and y < 10)  # True (both conditions are True)\n",
        "print(\"x < 5 or y < 10:\", x < 5 or y < 10)  # True (one condition is True)\n",
        "print(\"not(x == 10):\", not(x == 10))  # False (because x == 10 is True, and not reverses it)\n",
        "\n",
        "\n"
      ],
      "metadata": {
        "colab": {
          "base_uri": "https://localhost:8080/"
        },
        "id": "Vhusd54BC0RI",
        "outputId": "a0c93256-7548-46a8-92d3-345eefba6435"
      },
      "execution_count": null,
      "outputs": [
        {
          "output_type": "stream",
          "name": "stdout",
          "text": [
            "a and b: False\n",
            "a or b: True\n",
            "not a: False\n",
            "not b: True\n",
            "\n",
            "Checking Conditions:\n",
            "x > 5 and y < 10: True\n",
            "x < 5 or y < 10: True\n",
            "not(x == 10): False\n"
          ]
        }
      ]
    },
    {
      "cell_type": "markdown",
      "source": [
        "9-Write a Python program to convert user input from string to integer, float, and boolean types?"
      ],
      "metadata": {
        "id": "0cPhEhmhExQv"
      }
    },
    {
      "cell_type": "code",
      "source": [
        "# Taking user input as a string\n",
        "user_input = input(\"Enter a value: \")\n",
        "\n",
        "# Converting to integer (if possible)\n",
        "try:\n",
        "    int_value = int(user_input)\n",
        "    print(\"Integer:\", int_value)\n",
        "except ValueError:\n",
        "    print(\"Cannot convert to Integer\")\n",
        "\n",
        "# Converting to float (if possible)\n",
        "try:\n",
        "    float_value = float(user_input)\n",
        "    print(\"Float:\", float_value)\n",
        "except ValueError:\n",
        "    print(\"Cannot convert to Float\")\n",
        "\n",
        "# Converting to boolean\n",
        "bool_value = bool(user_input)  # Empty string is False, non-empty is True\n",
        "print(\"Boolean:\", bool_value)\n",
        "\n",
        "\n"
      ],
      "metadata": {
        "colab": {
          "base_uri": "https://localhost:8080/"
        },
        "id": "oH-cIqk5E66p",
        "outputId": "3666b940-579a-4426-a993-a2dff05b00b4"
      },
      "execution_count": null,
      "outputs": [
        {
          "output_type": "stream",
          "name": "stdout",
          "text": [
            "Enter a value: 100\n",
            "Integer: 100\n",
            "Float: 100.0\n",
            "Boolean: True\n"
          ]
        }
      ]
    },
    {
      "cell_type": "markdown",
      "source": [
        "10-Write code to demonstrate type casting with list elements?"
      ],
      "metadata": {
        "id": "VOIfvgsnFKnW"
      }
    },
    {
      "cell_type": "code",
      "source": [
        "# Creating a list with mixed data types (strings, numbers)\n",
        "data_list = [\"17\", \"20\", \"30\", \"True\", \"90\"]\n",
        "\n",
        "# Converting string numbers to integers\n",
        "int_list = [int(float(item)) for item in data_list if item.replace(\".\", \"\", 1).isdigit()]\n",
        "print(\"Converted to Integers:\", int_list)\n",
        "\n",
        "# Converting string numbers to floats\n",
        "float_list = [float(item) for item in data_list if item.replace(\".\", \"\", 1).isdigit()]\n",
        "print(\"Converted to Floats:\", float_list)\n",
        "\n",
        "# Converting string values to boolean\n",
        "bool_list = [bool(eval(item)) if item in [\"True\", \"False\"] else bool(item) for item in data_list]\n",
        "print(\"Converted to Booleans:\", bool_list)\n"
      ],
      "metadata": {
        "colab": {
          "base_uri": "https://localhost:8080/"
        },
        "id": "waPAqBXMFTcx",
        "outputId": "3ef1f849-9ba4-4656-ec16-32b058870b84"
      },
      "execution_count": null,
      "outputs": [
        {
          "output_type": "stream",
          "name": "stdout",
          "text": [
            "Converted to Integers: [17, 20, 30, 90]\n",
            "Converted to Floats: [17.0, 20.0, 30.0, 90.0]\n",
            "Converted to Booleans: [True, True, True, True, True]\n"
          ]
        }
      ]
    },
    {
      "cell_type": "markdown",
      "source": [
        "11-Write a program that checks if a number is positive, negative, or zero0?\n",
        "\n"
      ],
      "metadata": {
        "id": "sviClWILF4EZ"
      }
    },
    {
      "cell_type": "code",
      "source": [
        "# Taking user input\n",
        "num = float(input(\"Enter a number: \"))\n",
        "\n",
        "# Checking the number\n",
        "if num > 0:\n",
        "    print(f\"{num} is positive.\")\n",
        "elif num < 0:\n",
        "    print(f\"{num} is negative.\")\n",
        "else:\n",
        "    print(f\"{num} is zero.\")"
      ],
      "metadata": {
        "colab": {
          "base_uri": "https://localhost:8080/"
        },
        "id": "INK2Xy9KGWEA",
        "outputId": "370c235a-f126-4d70-c062-7ea9b1a77fe1"
      },
      "execution_count": null,
      "outputs": [
        {
          "output_type": "stream",
          "name": "stdout",
          "text": [
            "Enter a number: 80\n",
            "80.0 is positive.\n"
          ]
        }
      ]
    },
    {
      "cell_type": "markdown",
      "source": [
        "12-Write a for loop to print numbers from 1 to 100"
      ],
      "metadata": {
        "id": "y2tqA40RHCy6"
      }
    },
    {
      "cell_type": "code",
      "source": [
        "# Using a for loop to print numbers from 1 to 100\n",
        "for number in range(1, 100):\n",
        "    print(number)\n"
      ],
      "metadata": {
        "colab": {
          "base_uri": "https://localhost:8080/"
        },
        "id": "CKWQxoUXHJeg",
        "outputId": "a4c1795a-c218-423d-f14c-a6f09b273b77"
      },
      "execution_count": null,
      "outputs": [
        {
          "output_type": "stream",
          "name": "stdout",
          "text": [
            "1\n",
            "2\n",
            "3\n",
            "4\n",
            "5\n",
            "6\n",
            "7\n",
            "8\n",
            "9\n",
            "10\n",
            "11\n",
            "12\n",
            "13\n",
            "14\n",
            "15\n",
            "16\n",
            "17\n",
            "18\n",
            "19\n",
            "20\n",
            "21\n",
            "22\n",
            "23\n",
            "24\n",
            "25\n",
            "26\n",
            "27\n",
            "28\n",
            "29\n",
            "30\n",
            "31\n",
            "32\n",
            "33\n",
            "34\n",
            "35\n",
            "36\n",
            "37\n",
            "38\n",
            "39\n",
            "40\n",
            "41\n",
            "42\n",
            "43\n",
            "44\n",
            "45\n",
            "46\n",
            "47\n",
            "48\n",
            "49\n",
            "50\n",
            "51\n",
            "52\n",
            "53\n",
            "54\n",
            "55\n",
            "56\n",
            "57\n",
            "58\n",
            "59\n",
            "60\n",
            "61\n",
            "62\n",
            "63\n",
            "64\n",
            "65\n",
            "66\n",
            "67\n",
            "68\n",
            "69\n",
            "70\n",
            "71\n",
            "72\n",
            "73\n",
            "74\n",
            "75\n",
            "76\n",
            "77\n",
            "78\n",
            "79\n",
            "80\n",
            "81\n",
            "82\n",
            "83\n",
            "84\n",
            "85\n",
            "86\n",
            "87\n",
            "88\n",
            "89\n",
            "90\n",
            "91\n",
            "92\n",
            "93\n",
            "94\n",
            "95\n",
            "96\n",
            "97\n",
            "98\n",
            "99\n"
          ]
        }
      ]
    },
    {
      "cell_type": "markdown",
      "source": [
        "13-Write a Python program to find the sum of all even numbers between 1 and 500?"
      ],
      "metadata": {
        "id": "FtwG7XEaHV51"
      }
    },
    {
      "cell_type": "code",
      "source": [
        "# Initialize sum\n",
        "even_sum = 0\n",
        "\n",
        "# Using a for loop to find even numbers between 1 and 500\n",
        "for number in range(2, 501, 2):  # Start at 2, step by 2 to get even numbers\n",
        "    even_sum += number\n",
        "\n",
        "# Print the sum of even numbers\n",
        "print(\"Sum of all even numbers between 1 and 500:\", even_sum)"
      ],
      "metadata": {
        "colab": {
          "base_uri": "https://localhost:8080/"
        },
        "id": "w3el5-rOHpDO",
        "outputId": "711331d8-abf0-4c0e-eab9-7de8ca885e15"
      },
      "execution_count": null,
      "outputs": [
        {
          "output_type": "stream",
          "name": "stdout",
          "text": [
            "Sum of all even numbers between 1 and 500: 62750\n"
          ]
        }
      ]
    },
    {
      "cell_type": "markdown",
      "source": [
        "14- Write a program to reverse a string using a while loop?"
      ],
      "metadata": {
        "id": "YVTKZbhLHz5g"
      }
    },
    {
      "cell_type": "code",
      "source": [
        "# Take user input\n",
        "input_string = input(\"Enter a string: \")\n",
        "\n",
        "# Initialize an empty string for the reversed string\n",
        "reversed_string = \"\"\n",
        "\n",
        "# Initialize an index starting from the last character of the input string\n",
        "index = len(input_string) - 1\n",
        "\n",
        "# While loop to reverse the string\n",
        "while index >= 0:\n",
        "    reversed_string += input_string[index]  # Add character to the reversed string\n",
        "    index -= 1  # Move to the previous character\n",
        "\n",
        "# Print the reversed string\n",
        "print(\"Reversed string:\", reversed_string)\n"
      ],
      "metadata": {
        "colab": {
          "base_uri": "https://localhost:8080/"
        },
        "id": "qElcycKSIEsY",
        "outputId": "60bdad0d-30a8-4b13-a7ca-880cb4d580ff"
      },
      "execution_count": null,
      "outputs": [
        {
          "output_type": "stream",
          "name": "stdout",
          "text": [
            "Enter a string: Digbijaya Singh\n",
            "Reversed string: hgniS ayajibgiD\n"
          ]
        }
      ]
    },
    {
      "cell_type": "markdown",
      "source": [
        "15-Write a Python program to calculate the factorial of a number provided by the user using a while loop?\n"
      ],
      "metadata": {
        "id": "-o_CcccEIbh1"
      }
    },
    {
      "cell_type": "code",
      "source": [
        "# Take user input\n",
        "num = int(input(\"Enter a number to calculate its factorial: \"))\n",
        "\n",
        "# Initialize variables\n",
        "factorial = 1\n",
        "i = 1\n",
        "\n",
        "# Using a while loop to calculate the factorial\n",
        "while i <= num:\n",
        "    factorial *= i\n",
        "    i += 1\n",
        "\n",
        "# Print the factorial of the number\n",
        "print(f\"The factorial of {num} is {factorial}\")\n"
      ],
      "metadata": {
        "colab": {
          "base_uri": "https://localhost:8080/"
        },
        "id": "JA2rhTvQIjiP",
        "outputId": "24ba05d2-aa3a-4447-c1af-d0c02628e96b"
      },
      "execution_count": null,
      "outputs": [
        {
          "output_type": "stream",
          "name": "stdout",
          "text": [
            "Enter a number to calculate its factorial: 90\n",
            "The factorial of 90 is 1485715964481761497309522733620825737885569961284688766942216863704985393094065876545992131370884059645617234469978112000000000000000000000\n"
          ]
        }
      ]
    }
  ]
}